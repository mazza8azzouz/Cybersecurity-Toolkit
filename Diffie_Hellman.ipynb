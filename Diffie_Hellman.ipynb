pip install pycryptodome
from Crypto.Util import number
import random

# Générer un grand nombre premier pour p
p = number.getPrime(512)  # 512 bits pour plus de sécurité
g = 2  # Générateur simple

# Alice choisit son secret
a = random.randint(2, p-2)
A = pow(g, a, p)  # A = g^a mod p

# Bob choisit son secret
b = random.randint(2, p-2)
B = pow(g, b, p)  # B = g^b mod p

# Échange des valeurs A et B

# Alice calcule la clé partagée
K_alice = pow(B, a, p)  # K = B^a mod p

# Bob calcule la clé partagée
K_bob = pow(A, b, p)  # K = A^b mod p

print("Alice's shared key:", K_alice)
print("Bob's shared key  :", K_bob)
print("Are the keys identical?", K_alice == K_bob)
