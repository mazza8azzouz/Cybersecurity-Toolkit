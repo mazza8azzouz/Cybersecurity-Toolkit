{
 "cells": [
  {
   "cell_type": "markdown",
   "id": "c2c562ea",
   "metadata": {},
   "source": [
    "### Exercice 1: Chiffrement et déchiffrement de César"
   ]
  },
  {
   "cell_type": "code",
   "execution_count": 10,
   "id": "13e47bb2",
   "metadata": {},
   "outputs": [],
   "source": [
    "def chiff_cesar(Plaintext,cle):\n",
    "    L=list(Plaintext)\n",
    "    Ciphertext=[chr((ord(e)+ord(cle))%26 +65) for e in L]\n",
    "    return ''.join(Ciphertext)"
   ]
  },
  {
   "cell_type": "code",
   "execution_count": 11,
   "id": "dc9bd3a6",
   "metadata": {},
   "outputs": [
    {
     "data": {
      "text/plain": [
       "'XIXN'"
      ]
     },
     "execution_count": 11,
     "metadata": {},
     "output_type": "execute_result"
    }
   ],
   "source": [
    "chiff_cesar(\"SDSI\",'F')"
   ]
  },
  {
   "cell_type": "code",
   "execution_count": 14,
   "id": "f56454e0",
   "metadata": {},
   "outputs": [],
   "source": [
    "def dechiff_cesar(Ciphertext,cle):\n",
    "    L=list(Ciphertext)\n",
    "    Plaintext=[chr((ord(e)-ord(cle))%26 +65) for e in L]\n",
    "    return ''.join(Plaintext)"
   ]
  },
  {
   "cell_type": "code",
   "execution_count": 15,
   "id": "bf028067",
   "metadata": {},
   "outputs": [
    {
     "data": {
      "text/plain": [
       "'SDSI'"
      ]
     },
     "execution_count": 15,
     "metadata": {},
     "output_type": "execute_result"
    }
   ],
   "source": [
    "dechiff_cesar(\"XIXN\",'F')"
   ]
  },
  {
   "cell_type": "markdown",
   "id": "b471aa42",
   "metadata": {},
   "source": [
    "### Exercice 2: Analyse fréquentielle"
   ]
  },
  {
   "cell_type": "code",
   "execution_count": 5,
   "id": "f208958a",
   "metadata": {},
   "outputs": [],
   "source": [
    "def nbre_occurence(message):\n",
    "    l=[0 for i in range(26)]\n",
    "    m=list(message)\n",
    "    for e in message:\n",
    "        l[ord(e)-65]=m.count(e)\n",
    "    return l"
   ]
  },
  {
   "cell_type": "code",
   "execution_count": 6,
   "id": "fa7a7be8",
   "metadata": {},
   "outputs": [],
   "source": [
    "def analyse_frequentielle(Ciphertext):\n",
    "    L=nbre_occurence(''.join(Ciphertext.split()))\n",
    "    maxi=max(L)\n",
    "    cle=chr(((L.index(maxi)+65))-ord('E')+65)\n",
    "    list_mot=Ciphertext.split()\n",
    "    ch=''\n",
    "    for e in list_mot:\n",
    "        ch=ch+' '+dechiff_cesar(e,cle)\n",
    "    return (ch,cle)"
   ]
  },
  {
   "cell_type": "code",
   "execution_count": 66,
   "id": "37d8fbec",
   "metadata": {},
   "outputs": [
    {
     "name": "stdout",
     "output_type": "stream",
     "text": [
      "Plaintext: MASTER OF DATA SCIENCE AND INTELLIGENT SYSTEMS\n",
      "Clé:T\n"
     ]
    }
   ],
   "source": [
    "Ciphertext=\"FTLMXK HY WTMT LVBXGVX TGW BGMXEEBZXGM LRLMXFL\"\n",
    "(Plaintext,cle)=analyse_frequentielle(Ciphertext)\n",
    "print(\"Plaintext:{}\".format(Plaintext))\n",
    "print(\"Clé:{}\".format(cle))"
   ]
  },
  {
   "cell_type": "markdown",
   "id": "118f0773",
   "metadata": {},
   "source": [
    "### Exercice 3 et 4: Chiffrement et déchiffrement de vigenère"
   ]
  },
  {
   "cell_type": "code",
   "execution_count": 48,
   "id": "f035ef86",
   "metadata": {},
   "outputs": [],
   "source": [
    "import numpy as np\n",
    "def chiff_vigenere(Plaintext,cle):\n",
    "    c=cle\n",
    "    while(len(c)<len(Plaintext)):\n",
    "        c=c+cle\n",
    "    c=c[:len(Plaintext)]\n",
    "    l=(np.array([(ord(i)) for i in Plaintext])+np.array([(ord(j)) for j in c ]))%26 \n",
    "    Ciphertext=[chr(e+65) for e in l]\n",
    "    return ''.join(Ciphertext)"
   ]
  },
  {
   "cell_type": "code",
   "execution_count": 49,
   "id": "03c2403c",
   "metadata": {},
   "outputs": [
    {
     "data": {
      "text/plain": [
       "'RPFYTEXSFN'"
      ]
     },
     "execution_count": 49,
     "metadata": {},
     "output_type": "execute_result"
    }
   ],
   "source": [
    "chiff_vigenere(\"MASTERSDSI\",\"FPN\")"
   ]
  },
  {
   "cell_type": "code",
   "execution_count": 50,
   "id": "bbeab0aa",
   "metadata": {},
   "outputs": [
    {
     "data": {
      "text/plain": [
       "'XTPZGVYTQJHQTCAJTF'"
      ]
     },
     "execution_count": 50,
     "metadata": {},
     "output_type": "execute_result"
    }
   ],
   "source": [
    "chiff_vigenere(\"SECURITEDESDONNEES\",\"FPN\")"
   ]
  },
  {
   "cell_type": "code",
   "execution_count": 51,
   "id": "42460bbf",
   "metadata": {},
   "outputs": [],
   "source": [
    "def dechiff_vigenere(Ciphertext,cle):\n",
    "    c=cle\n",
    "    while(len(c)<len(Ciphertext)):\n",
    "        c=c+cle\n",
    "    c=c[:len(Ciphertext)]\n",
    "    l=(np.array([(ord(i)) for i in Ciphertext])-np.array([(ord(j)) for j in c ]))%26 \n",
    "    Plaintext=[chr(e+65) for e in l]\n",
    "    return ''.join(Plaintext)"
   ]
  },
  {
   "cell_type": "code",
   "execution_count": 52,
   "id": "43c8fe99",
   "metadata": {},
   "outputs": [
    {
     "data": {
      "text/plain": [
       "'SECURITEDESDONNEES'"
      ]
     },
     "execution_count": 52,
     "metadata": {},
     "output_type": "execute_result"
    }
   ],
   "source": [
    "dechiff_vigenere(\"XTPZGVYTQJHQTCAJTF\",\"FPN\")"
   ]
  },
  {
   "cell_type": "code",
   "execution_count": 53,
   "id": "dc0874c7",
   "metadata": {},
   "outputs": [
    {
     "data": {
      "text/plain": [
       "'MASTERSDSI'"
      ]
     },
     "execution_count": 53,
     "metadata": {},
     "output_type": "execute_result"
    }
   ],
   "source": [
    "dechiff_vigenere(\"RPFYTEXSFN\",\"FPN\")"
   ]
  },
  {
   "cell_type": "markdown",
   "id": "6db42033",
   "metadata": {},
   "source": [
    "### Deviner la clé de chiffrement de vigenere\n",
    "#### On suppose qu'on sait auparavant la taille de la clé, je prends la taille=3,Alors, la 1ère lettre, la 4ème, la 7ème, etc... ont toutes été codées en utilisant la même lettre de la clé.C'est à dire, elles ont été codées en utilisant le même décalage de César. On sépare le texte chiffré en 3 parties : la première comporte les lettres 1,4,7,... la seconde les lettres 2,5,8,... la troisième les lettres 3,6,9,.... . Après on applique analyse fréquentielle pour chaque partie pour récupérer le décalage."
   ]
  },
  {
   "cell_type": "code",
   "execution_count": 62,
   "id": "a38692a9",
   "metadata": {},
   "outputs": [],
   "source": [
    "def deviner_cle_vigenere(Ciphertext,taille_cle):\n",
    "    l=list(Ciphertext)\n",
    "    parties=[]\n",
    "    for i in range(taille_cle):\n",
    "        parties.append(''.join(l[i::taille_cle]))\n",
    "    cle=\"\"\n",
    "    for partie in parties:\n",
    "        cle+=analyse_frequentielle(partie)[1]\n",
    "    \n",
    "    return cle"
   ]
  },
  {
   "cell_type": "code",
   "execution_count": 65,
   "id": "1f7de1b0",
   "metadata": {},
   "outputs": [
    {
     "name": "stdout",
     "output_type": "stream",
     "text": [
      "Entrer la taille de la clé:3\n",
      "Entrer le texte chiffré:XTPZGVYTQJHQTCAJTF\n",
      "La clé devinée est FPM\n"
     ]
    }
   ],
   "source": [
    "taille=int(input(\"Entrer la taille de la clé:\"))\n",
    "Ciphertext=input(\"Entrer le texte chiffré:\")\n",
    "print(\"La clé devinée est {}\".format(deviner_cle_vigenere(Ciphertext,taille)))"
   ]
  },
  {
   "cell_type": "markdown",
   "id": "0c0c82e8",
   "metadata": {},
   "source": [
    "### Exercice 5: Chiffrement et déchiffrement de Vernam"
   ]
  },
  {
   "cell_type": "code",
   "execution_count": 239,
   "id": "0b44af1c",
   "metadata": {},
   "outputs": [
    {
     "name": "stdout",
     "output_type": "stream",
     "text": [
      "Message chiffré: \u000b",
      "\u0011\u001d",
      "\u0012\u0015\u001c",
      "f\u0003\n",
      "\u0015\u0019\n",
      "Message déchiffrer: MASTER SDSI\n"
     ]
    }
   ],
   "source": [
    "def chiffrement_vernam(plainText, cle):\n",
    "    cipherText = ''\n",
    "    for i in range(len(plainText)):\n",
    "        # Convertir chaque caractere à son code ASCII et appliquer XOR avec son correspond du cle\n",
    "        cipherText_char = chr(ord(plainText[i]) ^ ord(cle[i % len(cle)]))\n",
    "        cipherText += cipherText_char\n",
    "    return cipherText\n",
    "\n",
    "def dechiffrement_vernam(cipherText, cle):\n",
    "    plainText = ''\n",
    "    for i in range(len(cipherText)):\n",
    "        # XOR each character in the encrypted message with the corresponding character in the key to get the original message\n",
    "        plainText_char = chr(ord(cipherText[i]) ^ ord(cle[i % len(cle)]))\n",
    "        plainText += plainText_char\n",
    "    return plainText\n",
    "\n",
    "# Example\n",
    "message = \"MASTER SDSI\"\n",
    "key = \"FPN\"\n",
    "\n",
    "encrypted = chiffrement_vernam(message, key)\n",
    "print(f\"Message chiffré: {encrypted}\")\n",
    "\n",
    "decrypted = dechiffrement_vernam(encrypted, key)\n",
    "print(f\"Message déchiffrer: {decrypted}\")\n"
   ]
  },
  {
   "cell_type": "markdown",
   "id": "50c3005f",
   "metadata": {},
   "source": [
    "<img src=\"VignereAlgorithm.png\">"
   ]
  },
  {
   "cell_type": "code",
   "execution_count": null,
   "id": "4ca823e2",
   "metadata": {},
   "outputs": [],
   "source": []
  }
 ],
 "metadata": {
  "kernelspec": {
   "display_name": "Python 3 (ipykernel)",
   "language": "python",
   "name": "python3"
  },
  "language_info": {
   "codemirror_mode": {
    "name": "ipython",
    "version": 3
   },
   "file_extension": ".py",
   "mimetype": "text/x-python",
   "name": "python",
   "nbconvert_exporter": "python",
   "pygments_lexer": "ipython3",
   "version": "3.9.13"
  }
 },
 "nbformat": 4,
 "nbformat_minor": 5
}
