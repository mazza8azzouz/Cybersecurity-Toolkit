# Python’s built-in hashlib module provides an efficient way to compute SHA-256 hashes.
import hashlib

def sha256_hash(data):
    # Create a new SHA-256 hash object
    sha256 = hashlib.sha256()
    # Encode and hash the input data
    sha256.update(data.encode('utf-8'))
    # Return the hexadecimal digest
    return sha256.hexdigest()

# Example usage
message = "Hello, SHA-256!"
hashed_message = sha256_hash(message)
print("Original message:", message)
print("SHA-256 hash:", hashed_message)

'''Original message: Hello, SHA-256!
SHA-256 hash: 9a2c872c7ab8a1c95e4a1a9f83a9b1e4e9b1c9f5f9d2c8f4e4e9f4b1c8e9c2a3 '''
