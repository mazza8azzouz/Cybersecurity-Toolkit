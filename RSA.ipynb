pip install pycryptodome
from Crypto.PublicKey import RSA
from Crypto.Cipher import PKCS1_OAEP
import base64

# Génération des clés RSA (2048 bits)
key = RSA.generate(2048)
private_key = key.export_key()
public_key = key.publickey().export_key()

print("Clé publique :\n", public_key.decode())
print("\nClé privée :\n", private_key.decode())

# Chiffrement du message
def encrypt_message(message, pub_key):
    rsa_key = RSA.import_key(pub_key)
    cipher = PKCS1_OAEP.new(rsa_key)
    encrypted_msg = cipher.encrypt(message.encode())
    return base64.b64encode(encrypted_msg).decode()

# Déchiffrement du message
def decrypt_message(encrypted_msg, priv_key):
    rsa_key = RSA.import_key(priv_key)
    cipher = PKCS1_OAEP.new(rsa_key)
    decrypted_msg = cipher.decrypt(base64.b64decode(encrypted_msg))
    return decrypted_msg.decode()

# Exemple d'utilisation
message = "Hello, RSA en Python !"
encrypted_msg = encrypt_message(message, public_key)
print("\nMessage chiffré :", encrypted_msg)

decrypted_msg = decrypt_message(encrypted_msg, private_key)
print("\nMessage déchiffré :", decrypted_msg)
